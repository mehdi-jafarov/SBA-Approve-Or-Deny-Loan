{
 "cells": [
  {
   "cell_type": "markdown",
   "id": "977d4ddf-915a-41a2-832c-d0afe645f077",
   "metadata": {},
   "source": [
    "# SBA Loan: Identifying Predictors of Potential Risk\n",
    "\n",
    "This notebook follows the structure of the article [*“Should This Loan be Approved or Denied?”*](https://doi.org/10.1080/10691898.2018.1434342) and analyzes SBA loan data to identify key factors associated with loan default."
   ]
  },
  {
   "cell_type": "code",
   "execution_count": 2,
   "id": "231eb586-4207-4a70-aed6-44ab8d8abd95",
   "metadata": {},
   "outputs": [],
   "source": [
    "# IMPORTS\n",
    "%reload_ext autoreload\n",
    "%autoreload 2\n",
    "    \n",
    "import pandas as pd\n",
    "import numpy as np\n",
    "\n",
    "from Utils.prep import Preprocessor as Prep\n",
    "from Utils.tables import TableBuilder as Table\n",
    "from Utils.plots import Plotter as Plot"
   ]
  },
  {
   "cell_type": "code",
   "execution_count": 3,
   "id": "208de293-fba5-4583-a177-c83b317fbee1",
   "metadata": {
    "jupyter": {
     "source_hidden": true
    }
   },
   "outputs": [],
   "source": [
    "# DESCRIPTION MAPPINGS\n",
    "# RECESSION\n",
    "recession_desc = {\n",
    "    1:'Active',\n",
    "    0:'Not Active'\n",
    "}\n",
    "\n",
    "# STATES\n",
    "states_desc = {\n",
    "    'AL':'Alabama', 'AK':'Alaska', 'AZ':'Arizona', 'AR':'Arkansas',\n",
    "    'CA':'California', 'CO':'Colorado', 'CT':'Connecticut', 'DE':'Delaware',\n",
    "    'DC': 'District of Columbia', 'FL':'Florida', 'GA':'Georgia', 'HI':'Hawaii',\n",
    "    'ID':'Idaho', 'IL':'Illinois', 'IN':'Indiana', 'IA':'Iowa', \n",
    "    'KS':'Kansas', 'KY':'Kentucky', 'LA':'Louisiana', 'ME':'Maine', \n",
    "    'MD':'Maryland', 'MA':'Massachusetts', 'MI':'Michigan', 'MN':'Minnesota',\n",
    "    'MS':'Mississippi', 'MO':'Missouri', 'MT':'Montana', 'NE':'Nebraska',\n",
    "    'NV':'Nevada', 'NH':'New Hampshire', 'NJ':'New Jersey', 'NM':'New Mexico',\n",
    "    'NY':'New York', 'NC':'North Carolina', 'ND':'North Dakota', 'OH':'Ohio',\n",
    "    'OK':'Oklahoma', 'OR':'Oregon', 'PA':'Pennsylvania', 'RI':'Rhode Island',\n",
    "    'SC':'South Carolina', 'SD':'South Dakota', 'TN':'Tennessee', 'TX':'Texas',\n",
    "    'UT':'Utah', 'VT':'Vermont', 'VA':'Virginia', 'WA':'Washington', 'WV':'West Virginia', \n",
    "    'WI':'Wisconsin', 'WY':'Wyoming'\n",
    "}\n",
    "\n",
    "# NAICS\n",
    "naics_desc = {\n",
    "    '11': 'Agriculture, forestry, fishing and hunting',\n",
    "    '21': 'Mining, quarrying, and oil and gas extraction',\n",
    "    '22': 'Utilities',\n",
    "    '23': 'Construction',\n",
    "    '31': 'Manufacturing',\n",
    "    '32': 'Manufacturing',\n",
    "    '33': 'Manufacturing',\n",
    "    '42': 'Wholesale trade',\n",
    "    '44': 'Retail trade',\n",
    "    '45': 'Retail trade',\n",
    "    '48': 'Transportation and warehousing',\n",
    "    '49': 'Transportation and warehousing',\n",
    "    '51': 'Information',\n",
    "    '52': 'Finance and insurance',\n",
    "    '53': 'Real estate and rental and leasing',\n",
    "    '54': 'Professional, scientific, and technical services',\n",
    "    '55': 'Management of companies and enterprises',\n",
    "    '56': 'Administrative and support, waste management',\n",
    "    '61': 'Educational services',\n",
    "    '62': 'Health care and social assistance',\n",
    "    '71': 'Arts, entertainment, and recreation',\n",
    "    '72': 'Accommodation and food services',\n",
    "    '81': 'Other services (except public administration)',\n",
    "    '92': 'Public administration'\n",
    "}\n",
    "\n",
    "# REALESTATE\n",
    "realestate_desc = {\n",
    "    1: 'Backed by Real Estate (Term ≥ 240 months)',\n",
    "    0: 'Not Backed by Real Estate'\n",
    "}\n",
    "\n",
    "# NEWEXIST\n",
    "newexist_desc = {\n",
    "    1.0: 'Existing',\n",
    "    2.0: 'New'\n",
    "}"
   ]
  },
  {
   "cell_type": "code",
   "execution_count": 7,
   "id": "3b3e3fa1-07a4-44ea-9f88-2075dab095d6",
   "metadata": {},
   "outputs": [
    {
     "name": "stdout",
     "output_type": "stream",
     "text": [
      "(899164, 27)\n"
     ]
    },
    {
     "data": {
      "text/html": [
       "<div>\n",
       "<style scoped>\n",
       "    .dataframe tbody tr th:only-of-type {\n",
       "        vertical-align: middle;\n",
       "    }\n",
       "\n",
       "    .dataframe tbody tr th {\n",
       "        vertical-align: top;\n",
       "    }\n",
       "\n",
       "    .dataframe thead th {\n",
       "        text-align: right;\n",
       "    }\n",
       "</style>\n",
       "<table border=\"1\" class=\"dataframe\">\n",
       "  <thead>\n",
       "    <tr style=\"text-align: right;\">\n",
       "      <th></th>\n",
       "      <th>0</th>\n",
       "      <th>1</th>\n",
       "      <th>2</th>\n",
       "      <th>3</th>\n",
       "      <th>4</th>\n",
       "    </tr>\n",
       "  </thead>\n",
       "  <tbody>\n",
       "    <tr>\n",
       "      <th>LoanNr_ChkDgt</th>\n",
       "      <td>1000014003</td>\n",
       "      <td>1000024006</td>\n",
       "      <td>1000034009</td>\n",
       "      <td>1000044001</td>\n",
       "      <td>1000054004</td>\n",
       "    </tr>\n",
       "    <tr>\n",
       "      <th>Name</th>\n",
       "      <td>ABC HOBBYCRAFT</td>\n",
       "      <td>LANDMARK BAR &amp; GRILLE (THE)</td>\n",
       "      <td>WHITLOCK DDS, TODD M.</td>\n",
       "      <td>BIG BUCKS PAWN &amp; JEWELRY, LLC</td>\n",
       "      <td>ANASTASIA CONFECTIONS, INC.</td>\n",
       "    </tr>\n",
       "    <tr>\n",
       "      <th>City</th>\n",
       "      <td>EVANSVILLE</td>\n",
       "      <td>NEW PARIS</td>\n",
       "      <td>BLOOMINGTON</td>\n",
       "      <td>BROKEN ARROW</td>\n",
       "      <td>ORLANDO</td>\n",
       "    </tr>\n",
       "    <tr>\n",
       "      <th>State</th>\n",
       "      <td>IN</td>\n",
       "      <td>IN</td>\n",
       "      <td>IN</td>\n",
       "      <td>OK</td>\n",
       "      <td>FL</td>\n",
       "    </tr>\n",
       "    <tr>\n",
       "      <th>Zip</th>\n",
       "      <td>47711</td>\n",
       "      <td>46526</td>\n",
       "      <td>47401</td>\n",
       "      <td>74012</td>\n",
       "      <td>32801</td>\n",
       "    </tr>\n",
       "    <tr>\n",
       "      <th>Bank</th>\n",
       "      <td>FIFTH THIRD BANK</td>\n",
       "      <td>1ST SOURCE BANK</td>\n",
       "      <td>GRANT COUNTY STATE BANK</td>\n",
       "      <td>1ST NATL BK &amp; TR CO OF BROKEN</td>\n",
       "      <td>FLORIDA BUS. DEVEL CORP</td>\n",
       "    </tr>\n",
       "    <tr>\n",
       "      <th>BankState</th>\n",
       "      <td>OH</td>\n",
       "      <td>IN</td>\n",
       "      <td>IN</td>\n",
       "      <td>OK</td>\n",
       "      <td>FL</td>\n",
       "    </tr>\n",
       "    <tr>\n",
       "      <th>NAICS</th>\n",
       "      <td>451120</td>\n",
       "      <td>722410</td>\n",
       "      <td>621210</td>\n",
       "      <td>0</td>\n",
       "      <td>0</td>\n",
       "    </tr>\n",
       "    <tr>\n",
       "      <th>ApprovalDate</th>\n",
       "      <td>28-Feb-97</td>\n",
       "      <td>28-Feb-97</td>\n",
       "      <td>28-Feb-97</td>\n",
       "      <td>28-Feb-97</td>\n",
       "      <td>28-Feb-97</td>\n",
       "    </tr>\n",
       "    <tr>\n",
       "      <th>ApprovalFY</th>\n",
       "      <td>1997</td>\n",
       "      <td>1997</td>\n",
       "      <td>1997</td>\n",
       "      <td>1997</td>\n",
       "      <td>1997</td>\n",
       "    </tr>\n",
       "    <tr>\n",
       "      <th>Term</th>\n",
       "      <td>84</td>\n",
       "      <td>60</td>\n",
       "      <td>180</td>\n",
       "      <td>60</td>\n",
       "      <td>240</td>\n",
       "    </tr>\n",
       "    <tr>\n",
       "      <th>NoEmp</th>\n",
       "      <td>4</td>\n",
       "      <td>2</td>\n",
       "      <td>7</td>\n",
       "      <td>2</td>\n",
       "      <td>14</td>\n",
       "    </tr>\n",
       "    <tr>\n",
       "      <th>NewExist</th>\n",
       "      <td>2.0</td>\n",
       "      <td>2.0</td>\n",
       "      <td>1.0</td>\n",
       "      <td>1.0</td>\n",
       "      <td>1.0</td>\n",
       "    </tr>\n",
       "    <tr>\n",
       "      <th>CreateJob</th>\n",
       "      <td>0</td>\n",
       "      <td>0</td>\n",
       "      <td>0</td>\n",
       "      <td>0</td>\n",
       "      <td>7</td>\n",
       "    </tr>\n",
       "    <tr>\n",
       "      <th>RetainedJob</th>\n",
       "      <td>0</td>\n",
       "      <td>0</td>\n",
       "      <td>0</td>\n",
       "      <td>0</td>\n",
       "      <td>7</td>\n",
       "    </tr>\n",
       "    <tr>\n",
       "      <th>FranchiseCode</th>\n",
       "      <td>1</td>\n",
       "      <td>1</td>\n",
       "      <td>1</td>\n",
       "      <td>1</td>\n",
       "      <td>1</td>\n",
       "    </tr>\n",
       "    <tr>\n",
       "      <th>UrbanRural</th>\n",
       "      <td>0</td>\n",
       "      <td>0</td>\n",
       "      <td>0</td>\n",
       "      <td>0</td>\n",
       "      <td>0</td>\n",
       "    </tr>\n",
       "    <tr>\n",
       "      <th>RevLineCr</th>\n",
       "      <td>N</td>\n",
       "      <td>N</td>\n",
       "      <td>N</td>\n",
       "      <td>N</td>\n",
       "      <td>N</td>\n",
       "    </tr>\n",
       "    <tr>\n",
       "      <th>LowDoc</th>\n",
       "      <td>Y</td>\n",
       "      <td>Y</td>\n",
       "      <td>N</td>\n",
       "      <td>Y</td>\n",
       "      <td>N</td>\n",
       "    </tr>\n",
       "    <tr>\n",
       "      <th>ChgOffDate</th>\n",
       "      <td>NaN</td>\n",
       "      <td>NaN</td>\n",
       "      <td>NaN</td>\n",
       "      <td>NaN</td>\n",
       "      <td>NaN</td>\n",
       "    </tr>\n",
       "    <tr>\n",
       "      <th>DisbursementDate</th>\n",
       "      <td>28-Feb-99</td>\n",
       "      <td>31-May-97</td>\n",
       "      <td>31-Dec-97</td>\n",
       "      <td>30-Jun-97</td>\n",
       "      <td>14-May-97</td>\n",
       "    </tr>\n",
       "    <tr>\n",
       "      <th>DisbursementGross</th>\n",
       "      <td>$60,000.00</td>\n",
       "      <td>$40,000.00</td>\n",
       "      <td>$287,000.00</td>\n",
       "      <td>$35,000.00</td>\n",
       "      <td>$229,000.00</td>\n",
       "    </tr>\n",
       "    <tr>\n",
       "      <th>BalanceGross</th>\n",
       "      <td>$0.00</td>\n",
       "      <td>$0.00</td>\n",
       "      <td>$0.00</td>\n",
       "      <td>$0.00</td>\n",
       "      <td>$0.00</td>\n",
       "    </tr>\n",
       "    <tr>\n",
       "      <th>MIS_Status</th>\n",
       "      <td>P I F</td>\n",
       "      <td>P I F</td>\n",
       "      <td>P I F</td>\n",
       "      <td>P I F</td>\n",
       "      <td>P I F</td>\n",
       "    </tr>\n",
       "    <tr>\n",
       "      <th>ChgOffPrinGr</th>\n",
       "      <td>$0.00</td>\n",
       "      <td>$0.00</td>\n",
       "      <td>$0.00</td>\n",
       "      <td>$0.00</td>\n",
       "      <td>$0.00</td>\n",
       "    </tr>\n",
       "    <tr>\n",
       "      <th>GrAppv</th>\n",
       "      <td>$60,000.00</td>\n",
       "      <td>$40,000.00</td>\n",
       "      <td>$287,000.00</td>\n",
       "      <td>$35,000.00</td>\n",
       "      <td>$229,000.00</td>\n",
       "    </tr>\n",
       "    <tr>\n",
       "      <th>SBA_Appv</th>\n",
       "      <td>$48,000.00</td>\n",
       "      <td>$32,000.00</td>\n",
       "      <td>$215,250.00</td>\n",
       "      <td>$28,000.00</td>\n",
       "      <td>$229,000.00</td>\n",
       "    </tr>\n",
       "  </tbody>\n",
       "</table>\n",
       "</div>"
      ],
      "text/plain": [
       "                                  0                            1  \\\n",
       "LoanNr_ChkDgt            1000014003                   1000024006   \n",
       "Name                 ABC HOBBYCRAFT  LANDMARK BAR & GRILLE (THE)   \n",
       "City                     EVANSVILLE                    NEW PARIS   \n",
       "State                            IN                           IN   \n",
       "Zip                           47711                        46526   \n",
       "Bank               FIFTH THIRD BANK              1ST SOURCE BANK   \n",
       "BankState                        OH                           IN   \n",
       "NAICS                        451120                       722410   \n",
       "ApprovalDate              28-Feb-97                    28-Feb-97   \n",
       "ApprovalFY                     1997                         1997   \n",
       "Term                             84                           60   \n",
       "NoEmp                             4                            2   \n",
       "NewExist                        2.0                          2.0   \n",
       "CreateJob                         0                            0   \n",
       "RetainedJob                       0                            0   \n",
       "FranchiseCode                     1                            1   \n",
       "UrbanRural                        0                            0   \n",
       "RevLineCr                         N                            N   \n",
       "LowDoc                            Y                            Y   \n",
       "ChgOffDate                      NaN                          NaN   \n",
       "DisbursementDate          28-Feb-99                    31-May-97   \n",
       "DisbursementGross       $60,000.00                   $40,000.00    \n",
       "BalanceGross                 $0.00                        $0.00    \n",
       "MIS_Status                    P I F                        P I F   \n",
       "ChgOffPrinGr                 $0.00                        $0.00    \n",
       "GrAppv                  $60,000.00                   $40,000.00    \n",
       "SBA_Appv                $48,000.00                   $32,000.00    \n",
       "\n",
       "                                         2                              3  \\\n",
       "LoanNr_ChkDgt                   1000034009                     1000044001   \n",
       "Name                 WHITLOCK DDS, TODD M.  BIG BUCKS PAWN & JEWELRY, LLC   \n",
       "City                           BLOOMINGTON                   BROKEN ARROW   \n",
       "State                                   IN                             OK   \n",
       "Zip                                  47401                          74012   \n",
       "Bank               GRANT COUNTY STATE BANK  1ST NATL BK & TR CO OF BROKEN   \n",
       "BankState                               IN                             OK   \n",
       "NAICS                               621210                              0   \n",
       "ApprovalDate                     28-Feb-97                      28-Feb-97   \n",
       "ApprovalFY                            1997                           1997   \n",
       "Term                                   180                             60   \n",
       "NoEmp                                    7                              2   \n",
       "NewExist                               1.0                            1.0   \n",
       "CreateJob                                0                              0   \n",
       "RetainedJob                              0                              0   \n",
       "FranchiseCode                            1                              1   \n",
       "UrbanRural                               0                              0   \n",
       "RevLineCr                                N                              N   \n",
       "LowDoc                                   N                              Y   \n",
       "ChgOffDate                             NaN                            NaN   \n",
       "DisbursementDate                 31-Dec-97                      30-Jun-97   \n",
       "DisbursementGross             $287,000.00                     $35,000.00    \n",
       "BalanceGross                        $0.00                          $0.00    \n",
       "MIS_Status                           P I F                          P I F   \n",
       "ChgOffPrinGr                        $0.00                          $0.00    \n",
       "GrAppv                        $287,000.00                     $35,000.00    \n",
       "SBA_Appv                      $215,250.00                     $28,000.00    \n",
       "\n",
       "                                             4  \n",
       "LoanNr_ChkDgt                       1000054004  \n",
       "Name               ANASTASIA CONFECTIONS, INC.  \n",
       "City                                   ORLANDO  \n",
       "State                                       FL  \n",
       "Zip                                      32801  \n",
       "Bank                   FLORIDA BUS. DEVEL CORP  \n",
       "BankState                                   FL  \n",
       "NAICS                                        0  \n",
       "ApprovalDate                         28-Feb-97  \n",
       "ApprovalFY                                1997  \n",
       "Term                                       240  \n",
       "NoEmp                                       14  \n",
       "NewExist                                   1.0  \n",
       "CreateJob                                    7  \n",
       "RetainedJob                                  7  \n",
       "FranchiseCode                                1  \n",
       "UrbanRural                                   0  \n",
       "RevLineCr                                    N  \n",
       "LowDoc                                       N  \n",
       "ChgOffDate                                 NaN  \n",
       "DisbursementDate                     14-May-97  \n",
       "DisbursementGross                 $229,000.00   \n",
       "BalanceGross                            $0.00   \n",
       "MIS_Status                               P I F  \n",
       "ChgOffPrinGr                            $0.00   \n",
       "GrAppv                            $229,000.00   \n",
       "SBA_Appv                          $229,000.00   "
      ]
     },
     "execution_count": 7,
     "metadata": {},
     "output_type": "execute_result"
    }
   ],
   "source": [
    "# LOAD DATASET\n",
    "df = pd.read_csv(r'Data\\SBAnational.csv', low_memory=False)\n",
    "print(df.shape)\n",
    "df.head().T"
   ]
  },
  {
   "cell_type": "markdown",
   "id": "750fc79e-97fc-4369-bc2d-05a6c57cb28c",
   "metadata": {},
   "source": [
    "### Basic Preparation\n",
    "- Format `DisbursementDate` as datetime\n",
    "- Filter loans disbursed through 2010 to ensure outcomes are observable\n",
    "- Standardize and filter the `MIS_Status` column"
   ]
  },
  {
   "cell_type": "code",
   "execution_count": 43,
   "id": "c59c550b-2695-43e7-a884-b3ecce70fbde",
   "metadata": {},
   "outputs": [],
   "source": [
    "# Format date columns 1999-02-28 00:00:00\n",
    "df = Prep.format_date(df, ['DisbursementDate'])"
   ]
  },
  {
   "cell_type": "code",
   "execution_count": 44,
   "id": "97cd2978-b2b6-42d8-8419-ae9373dc4e67",
   "metadata": {},
   "outputs": [
    {
     "data": {
      "text/plain": [
       "(877025, 27)"
      ]
     },
     "execution_count": 44,
     "metadata": {},
     "output_type": "execute_result"
    }
   ],
   "source": [
    "# Filter disbursed through 2010\n",
    "df = df[df['DisbursementDate'].dt.year <= 2010]\n",
    "df.shape"
   ]
  },
  {
   "cell_type": "code",
   "execution_count": 45,
   "id": "e2072e9d-d7a1-4304-822f-020e8604772f",
   "metadata": {},
   "outputs": [
    {
     "name": "stdout",
     "output_type": "stream",
     "text": [
      "['P I F' 'CHGOFF' nan]\n"
     ]
    }
   ],
   "source": [
    "# MIS_STATUS\n",
    "print(df['MIS_Status'].unique())"
   ]
  },
  {
   "cell_type": "code",
   "execution_count": 46,
   "id": "8af28380-c266-4807-bcc9-df5e413d0edf",
   "metadata": {},
   "outputs": [
    {
     "name": "stdout",
     "output_type": "stream",
     "text": [
      "['PIF' 'CHGOFF'] (875250, 27)\n"
     ]
    }
   ],
   "source": [
    "# Clean and standardize MIS_Staus\n",
    "df = Prep.unspace(df, ['MIS_Status'])\n",
    "df = df[df['MIS_Status'].isin(['CHGOFF', 'PIF'])]\n",
    "print(df['MIS_Status'].unique(), df.shape)"
   ]
  },
  {
   "cell_type": "markdown",
   "id": "6c875500-198b-4a0b-99c9-14aea25f4038",
   "metadata": {},
   "source": [
    "### Predictor Analysis\n",
    "#### Location: `State`\n",
    "Analyzing default rates by U.S. states to detect geographic patterns."
   ]
  },
  {
   "cell_type": "code",
   "execution_count": 47,
   "id": "f407abc6-b10b-4165-b43f-179c4c55f233",
   "metadata": {},
   "outputs": [
    {
     "name": "stdout",
     "output_type": "stream",
     "text": [
      "\n",
      "Top 5 CHGOFF Rates by State:\n",
      "\n",
      "MIS_Status State           Description  CHGOFF\n",
      "50            FL               Florida   27.81\n",
      "49            GA               Georgia   24.27\n",
      "48            DC  District of Columbia   24.26\n",
      "47            NV                Nevada   23.36\n",
      "46            MI              Michigan   23.14\n",
      "\n",
      "Bottom 5 CHGOFF Rates by State:\n",
      "\n",
      "MIS_Status State   Description  CHGOFF\n",
      "0             MT       Montana    6.93\n",
      "1             WY       Wyoming    7.10\n",
      "2             VT       Vermont    7.48\n",
      "3             ND  North Dakota    7.86\n",
      "4             SD  South Dakota    7.99\n"
     ]
    },
    {
     "data": {
      "application/vnd.plotly.v1+json": {
       "config": {
        "plotlyServerURL": "https://plot.ly"
       },
       "data": [
        {
         "coloraxis": "coloraxis",
         "geo": "geo",
         "hovertemplate": "State=%{location}<br>CHGOFF=%{z}<extra></extra>",
         "locationmode": "USA-states",
         "locations": [
          "MT",
          "WY",
          "VT",
          "ND",
          "SD",
          "ME",
          "NH",
          "NM",
          "NE",
          "AK",
          "RI",
          "IA",
          "MN",
          "WI",
          "KS",
          "MA",
          "CT",
          "WA",
          "ID",
          "PA",
          "MO",
          "OR",
          "HI",
          "OK",
          "MS",
          "WV",
          "AL",
          "OH",
          "AR",
          "IN",
          "CO",
          "UT",
          "DE",
          "LA",
          "CA",
          "TX",
          "VA",
          "NC",
          "KY",
          "MD",
          "NY",
          "NJ",
          "SC",
          "AZ",
          "TN",
          "IL",
          "MI",
          "NV",
          "DC",
          "GA",
          "FL"
         ],
         "name": "",
         "type": "choropleth",
         "z": [
          6.93,
          7.1,
          7.48,
          7.86,
          7.99,
          10.07,
          10.85,
          11.04,
          11.45,
          11.46,
          11.51,
          11.63,
          11.95,
          12.4,
          13.18,
          13.24,
          14.18,
          14.27,
          14.29,
          14.84,
          15.43,
          15.59,
          15.68,
          15.69,
          16.17,
          16.48,
          16.71,
          16.79,
          16.99,
          18.03,
          18.08,
          18.08,
          18.16,
          18.33,
          18.73,
          19.06,
          19.16,
          19.61,
          19.65,
          20.02,
          20.26,
          20.37,
          20.71,
          21.05,
          21.56,
          23.04,
          23.14,
          23.36,
          24.26,
          24.27,
          27.81
         ]
        }
       ],
       "layout": {
        "coloraxis": {
         "colorbar": {
          "title": {
           "text": "CHGOFF"
          }
         },
         "colorscale": [
          [
           0,
           "rgb(5,48,97)"
          ],
          [
           0.1,
           "rgb(33,102,172)"
          ],
          [
           0.2,
           "rgb(67,147,195)"
          ],
          [
           0.3,
           "rgb(146,197,222)"
          ],
          [
           0.4,
           "rgb(209,229,240)"
          ],
          [
           0.5,
           "rgb(247,247,247)"
          ],
          [
           0.6,
           "rgb(253,219,199)"
          ],
          [
           0.7,
           "rgb(244,165,130)"
          ],
          [
           0.8,
           "rgb(214,96,77)"
          ],
          [
           0.9,
           "rgb(178,24,43)"
          ],
          [
           1,
           "rgb(103,0,31)"
          ]
         ]
        },
        "geo": {
         "center": {},
         "domain": {
          "x": [
           0,
           1
          ],
          "y": [
           0,
           1
          ]
         },
         "scope": "usa"
        },
        "legend": {
         "tracegroupgap": 0
        },
        "template": {
         "data": {
          "bar": [
           {
            "error_x": {
             "color": "#2a3f5f"
            },
            "error_y": {
             "color": "#2a3f5f"
            },
            "marker": {
             "line": {
              "color": "#E5ECF6",
              "width": 0.5
             },
             "pattern": {
              "fillmode": "overlay",
              "size": 10,
              "solidity": 0.2
             }
            },
            "type": "bar"
           }
          ],
          "barpolar": [
           {
            "marker": {
             "line": {
              "color": "#E5ECF6",
              "width": 0.5
             },
             "pattern": {
              "fillmode": "overlay",
              "size": 10,
              "solidity": 0.2
             }
            },
            "type": "barpolar"
           }
          ],
          "carpet": [
           {
            "aaxis": {
             "endlinecolor": "#2a3f5f",
             "gridcolor": "white",
             "linecolor": "white",
             "minorgridcolor": "white",
             "startlinecolor": "#2a3f5f"
            },
            "baxis": {
             "endlinecolor": "#2a3f5f",
             "gridcolor": "white",
             "linecolor": "white",
             "minorgridcolor": "white",
             "startlinecolor": "#2a3f5f"
            },
            "type": "carpet"
           }
          ],
          "choropleth": [
           {
            "colorbar": {
             "outlinewidth": 0,
             "ticks": ""
            },
            "type": "choropleth"
           }
          ],
          "contour": [
           {
            "colorbar": {
             "outlinewidth": 0,
             "ticks": ""
            },
            "colorscale": [
             [
              0,
              "#0d0887"
             ],
             [
              0.1111111111111111,
              "#46039f"
             ],
             [
              0.2222222222222222,
              "#7201a8"
             ],
             [
              0.3333333333333333,
              "#9c179e"
             ],
             [
              0.4444444444444444,
              "#bd3786"
             ],
             [
              0.5555555555555556,
              "#d8576b"
             ],
             [
              0.6666666666666666,
              "#ed7953"
             ],
             [
              0.7777777777777778,
              "#fb9f3a"
             ],
             [
              0.8888888888888888,
              "#fdca26"
             ],
             [
              1,
              "#f0f921"
             ]
            ],
            "type": "contour"
           }
          ],
          "contourcarpet": [
           {
            "colorbar": {
             "outlinewidth": 0,
             "ticks": ""
            },
            "type": "contourcarpet"
           }
          ],
          "heatmap": [
           {
            "colorbar": {
             "outlinewidth": 0,
             "ticks": ""
            },
            "colorscale": [
             [
              0,
              "#0d0887"
             ],
             [
              0.1111111111111111,
              "#46039f"
             ],
             [
              0.2222222222222222,
              "#7201a8"
             ],
             [
              0.3333333333333333,
              "#9c179e"
             ],
             [
              0.4444444444444444,
              "#bd3786"
             ],
             [
              0.5555555555555556,
              "#d8576b"
             ],
             [
              0.6666666666666666,
              "#ed7953"
             ],
             [
              0.7777777777777778,
              "#fb9f3a"
             ],
             [
              0.8888888888888888,
              "#fdca26"
             ],
             [
              1,
              "#f0f921"
             ]
            ],
            "type": "heatmap"
           }
          ],
          "heatmapgl": [
           {
            "colorbar": {
             "outlinewidth": 0,
             "ticks": ""
            },
            "colorscale": [
             [
              0,
              "#0d0887"
             ],
             [
              0.1111111111111111,
              "#46039f"
             ],
             [
              0.2222222222222222,
              "#7201a8"
             ],
             [
              0.3333333333333333,
              "#9c179e"
             ],
             [
              0.4444444444444444,
              "#bd3786"
             ],
             [
              0.5555555555555556,
              "#d8576b"
             ],
             [
              0.6666666666666666,
              "#ed7953"
             ],
             [
              0.7777777777777778,
              "#fb9f3a"
             ],
             [
              0.8888888888888888,
              "#fdca26"
             ],
             [
              1,
              "#f0f921"
             ]
            ],
            "type": "heatmapgl"
           }
          ],
          "histogram": [
           {
            "marker": {
             "pattern": {
              "fillmode": "overlay",
              "size": 10,
              "solidity": 0.2
             }
            },
            "type": "histogram"
           }
          ],
          "histogram2d": [
           {
            "colorbar": {
             "outlinewidth": 0,
             "ticks": ""
            },
            "colorscale": [
             [
              0,
              "#0d0887"
             ],
             [
              0.1111111111111111,
              "#46039f"
             ],
             [
              0.2222222222222222,
              "#7201a8"
             ],
             [
              0.3333333333333333,
              "#9c179e"
             ],
             [
              0.4444444444444444,
              "#bd3786"
             ],
             [
              0.5555555555555556,
              "#d8576b"
             ],
             [
              0.6666666666666666,
              "#ed7953"
             ],
             [
              0.7777777777777778,
              "#fb9f3a"
             ],
             [
              0.8888888888888888,
              "#fdca26"
             ],
             [
              1,
              "#f0f921"
             ]
            ],
            "type": "histogram2d"
           }
          ],
          "histogram2dcontour": [
           {
            "colorbar": {
             "outlinewidth": 0,
             "ticks": ""
            },
            "colorscale": [
             [
              0,
              "#0d0887"
             ],
             [
              0.1111111111111111,
              "#46039f"
             ],
             [
              0.2222222222222222,
              "#7201a8"
             ],
             [
              0.3333333333333333,
              "#9c179e"
             ],
             [
              0.4444444444444444,
              "#bd3786"
             ],
             [
              0.5555555555555556,
              "#d8576b"
             ],
             [
              0.6666666666666666,
              "#ed7953"
             ],
             [
              0.7777777777777778,
              "#fb9f3a"
             ],
             [
              0.8888888888888888,
              "#fdca26"
             ],
             [
              1,
              "#f0f921"
             ]
            ],
            "type": "histogram2dcontour"
           }
          ],
          "mesh3d": [
           {
            "colorbar": {
             "outlinewidth": 0,
             "ticks": ""
            },
            "type": "mesh3d"
           }
          ],
          "parcoords": [
           {
            "line": {
             "colorbar": {
              "outlinewidth": 0,
              "ticks": ""
             }
            },
            "type": "parcoords"
           }
          ],
          "pie": [
           {
            "automargin": true,
            "type": "pie"
           }
          ],
          "scatter": [
           {
            "fillpattern": {
             "fillmode": "overlay",
             "size": 10,
             "solidity": 0.2
            },
            "type": "scatter"
           }
          ],
          "scatter3d": [
           {
            "line": {
             "colorbar": {
              "outlinewidth": 0,
              "ticks": ""
             }
            },
            "marker": {
             "colorbar": {
              "outlinewidth": 0,
              "ticks": ""
             }
            },
            "type": "scatter3d"
           }
          ],
          "scattercarpet": [
           {
            "marker": {
             "colorbar": {
              "outlinewidth": 0,
              "ticks": ""
             }
            },
            "type": "scattercarpet"
           }
          ],
          "scattergeo": [
           {
            "marker": {
             "colorbar": {
              "outlinewidth": 0,
              "ticks": ""
             }
            },
            "type": "scattergeo"
           }
          ],
          "scattergl": [
           {
            "marker": {
             "colorbar": {
              "outlinewidth": 0,
              "ticks": ""
             }
            },
            "type": "scattergl"
           }
          ],
          "scattermapbox": [
           {
            "marker": {
             "colorbar": {
              "outlinewidth": 0,
              "ticks": ""
             }
            },
            "type": "scattermapbox"
           }
          ],
          "scatterpolar": [
           {
            "marker": {
             "colorbar": {
              "outlinewidth": 0,
              "ticks": ""
             }
            },
            "type": "scatterpolar"
           }
          ],
          "scatterpolargl": [
           {
            "marker": {
             "colorbar": {
              "outlinewidth": 0,
              "ticks": ""
             }
            },
            "type": "scatterpolargl"
           }
          ],
          "scatterternary": [
           {
            "marker": {
             "colorbar": {
              "outlinewidth": 0,
              "ticks": ""
             }
            },
            "type": "scatterternary"
           }
          ],
          "surface": [
           {
            "colorbar": {
             "outlinewidth": 0,
             "ticks": ""
            },
            "colorscale": [
             [
              0,
              "#0d0887"
             ],
             [
              0.1111111111111111,
              "#46039f"
             ],
             [
              0.2222222222222222,
              "#7201a8"
             ],
             [
              0.3333333333333333,
              "#9c179e"
             ],
             [
              0.4444444444444444,
              "#bd3786"
             ],
             [
              0.5555555555555556,
              "#d8576b"
             ],
             [
              0.6666666666666666,
              "#ed7953"
             ],
             [
              0.7777777777777778,
              "#fb9f3a"
             ],
             [
              0.8888888888888888,
              "#fdca26"
             ],
             [
              1,
              "#f0f921"
             ]
            ],
            "type": "surface"
           }
          ],
          "table": [
           {
            "cells": {
             "fill": {
              "color": "#EBF0F8"
             },
             "line": {
              "color": "white"
             }
            },
            "header": {
             "fill": {
              "color": "#C8D4E3"
             },
             "line": {
              "color": "white"
             }
            },
            "type": "table"
           }
          ]
         },
         "layout": {
          "annotationdefaults": {
           "arrowcolor": "#2a3f5f",
           "arrowhead": 0,
           "arrowwidth": 1
          },
          "autotypenumbers": "strict",
          "coloraxis": {
           "colorbar": {
            "outlinewidth": 0,
            "ticks": ""
           }
          },
          "colorscale": {
           "diverging": [
            [
             0,
             "#8e0152"
            ],
            [
             0.1,
             "#c51b7d"
            ],
            [
             0.2,
             "#de77ae"
            ],
            [
             0.3,
             "#f1b6da"
            ],
            [
             0.4,
             "#fde0ef"
            ],
            [
             0.5,
             "#f7f7f7"
            ],
            [
             0.6,
             "#e6f5d0"
            ],
            [
             0.7,
             "#b8e186"
            ],
            [
             0.8,
             "#7fbc41"
            ],
            [
             0.9,
             "#4d9221"
            ],
            [
             1,
             "#276419"
            ]
           ],
           "sequential": [
            [
             0,
             "#0d0887"
            ],
            [
             0.1111111111111111,
             "#46039f"
            ],
            [
             0.2222222222222222,
             "#7201a8"
            ],
            [
             0.3333333333333333,
             "#9c179e"
            ],
            [
             0.4444444444444444,
             "#bd3786"
            ],
            [
             0.5555555555555556,
             "#d8576b"
            ],
            [
             0.6666666666666666,
             "#ed7953"
            ],
            [
             0.7777777777777778,
             "#fb9f3a"
            ],
            [
             0.8888888888888888,
             "#fdca26"
            ],
            [
             1,
             "#f0f921"
            ]
           ],
           "sequentialminus": [
            [
             0,
             "#0d0887"
            ],
            [
             0.1111111111111111,
             "#46039f"
            ],
            [
             0.2222222222222222,
             "#7201a8"
            ],
            [
             0.3333333333333333,
             "#9c179e"
            ],
            [
             0.4444444444444444,
             "#bd3786"
            ],
            [
             0.5555555555555556,
             "#d8576b"
            ],
            [
             0.6666666666666666,
             "#ed7953"
            ],
            [
             0.7777777777777778,
             "#fb9f3a"
            ],
            [
             0.8888888888888888,
             "#fdca26"
            ],
            [
             1,
             "#f0f921"
            ]
           ]
          },
          "colorway": [
           "#636efa",
           "#EF553B",
           "#00cc96",
           "#ab63fa",
           "#FFA15A",
           "#19d3f3",
           "#FF6692",
           "#B6E880",
           "#FF97FF",
           "#FECB52"
          ],
          "font": {
           "color": "#2a3f5f"
          },
          "geo": {
           "bgcolor": "white",
           "lakecolor": "white",
           "landcolor": "#E5ECF6",
           "showlakes": true,
           "showland": true,
           "subunitcolor": "white"
          },
          "hoverlabel": {
           "align": "left"
          },
          "hovermode": "closest",
          "mapbox": {
           "style": "light"
          },
          "paper_bgcolor": "white",
          "plot_bgcolor": "#E5ECF6",
          "polar": {
           "angularaxis": {
            "gridcolor": "white",
            "linecolor": "white",
            "ticks": ""
           },
           "bgcolor": "#E5ECF6",
           "radialaxis": {
            "gridcolor": "white",
            "linecolor": "white",
            "ticks": ""
           }
          },
          "scene": {
           "xaxis": {
            "backgroundcolor": "#E5ECF6",
            "gridcolor": "white",
            "gridwidth": 2,
            "linecolor": "white",
            "showbackground": true,
            "ticks": "",
            "zerolinecolor": "white"
           },
           "yaxis": {
            "backgroundcolor": "#E5ECF6",
            "gridcolor": "white",
            "gridwidth": 2,
            "linecolor": "white",
            "showbackground": true,
            "ticks": "",
            "zerolinecolor": "white"
           },
           "zaxis": {
            "backgroundcolor": "#E5ECF6",
            "gridcolor": "white",
            "gridwidth": 2,
            "linecolor": "white",
            "showbackground": true,
            "ticks": "",
            "zerolinecolor": "white"
           }
          },
          "shapedefaults": {
           "line": {
            "color": "#2a3f5f"
           }
          },
          "ternary": {
           "aaxis": {
            "gridcolor": "white",
            "linecolor": "white",
            "ticks": ""
           },
           "baxis": {
            "gridcolor": "white",
            "linecolor": "white",
            "ticks": ""
           },
           "bgcolor": "#E5ECF6",
           "caxis": {
            "gridcolor": "white",
            "linecolor": "white",
            "ticks": ""
           }
          },
          "title": {
           "x": 0.05
          },
          "xaxis": {
           "automargin": true,
           "gridcolor": "white",
           "linecolor": "white",
           "ticks": "",
           "title": {
            "standoff": 15
           },
           "zerolinecolor": "white",
           "zerolinewidth": 2
          },
          "yaxis": {
           "automargin": true,
           "gridcolor": "white",
           "linecolor": "white",
           "ticks": "",
           "title": {
            "standoff": 15
           },
           "zerolinecolor": "white",
           "zerolinewidth": 2
          }
         }
        },
        "title": {
         "text": "State Shaded by Default Rate of Loans Disbursed before 2011"
        }
       }
      },
      "text/html": [
       "<div>                            <div id=\"744fbb77-3578-4593-bc34-9bf4a274dc39\" class=\"plotly-graph-div\" style=\"height:525px; width:100%;\"></div>            <script type=\"text/javascript\">                require([\"plotly\"], function(Plotly) {                    window.PLOTLYENV=window.PLOTLYENV || {};                                    if (document.getElementById(\"744fbb77-3578-4593-bc34-9bf4a274dc39\")) {                    Plotly.newPlot(                        \"744fbb77-3578-4593-bc34-9bf4a274dc39\",                        [{\"coloraxis\":\"coloraxis\",\"geo\":\"geo\",\"hovertemplate\":\"State=%{location}\\u003cbr\\u003eCHGOFF=%{z}\\u003cextra\\u003e\\u003c\\u002fextra\\u003e\",\"locationmode\":\"USA-states\",\"locations\":[\"MT\",\"WY\",\"VT\",\"ND\",\"SD\",\"ME\",\"NH\",\"NM\",\"NE\",\"AK\",\"RI\",\"IA\",\"MN\",\"WI\",\"KS\",\"MA\",\"CT\",\"WA\",\"ID\",\"PA\",\"MO\",\"OR\",\"HI\",\"OK\",\"MS\",\"WV\",\"AL\",\"OH\",\"AR\",\"IN\",\"CO\",\"UT\",\"DE\",\"LA\",\"CA\",\"TX\",\"VA\",\"NC\",\"KY\",\"MD\",\"NY\",\"NJ\",\"SC\",\"AZ\",\"TN\",\"IL\",\"MI\",\"NV\",\"DC\",\"GA\",\"FL\"],\"name\":\"\",\"z\":[6.93,7.1,7.48,7.86,7.99,10.07,10.85,11.04,11.45,11.46,11.51,11.63,11.95,12.4,13.18,13.24,14.18,14.27,14.29,14.84,15.43,15.59,15.68,15.69,16.17,16.48,16.71,16.79,16.99,18.03,18.08,18.08,18.16,18.33,18.73,19.06,19.16,19.61,19.65,20.02,20.26,20.37,20.71,21.05,21.56,23.04,23.14,23.36,24.26,24.27,27.81],\"type\":\"choropleth\"}],                        {\"template\":{\"data\":{\"histogram2dcontour\":[{\"type\":\"histogram2dcontour\",\"colorbar\":{\"outlinewidth\":0,\"ticks\":\"\"},\"colorscale\":[[0.0,\"#0d0887\"],[0.1111111111111111,\"#46039f\"],[0.2222222222222222,\"#7201a8\"],[0.3333333333333333,\"#9c179e\"],[0.4444444444444444,\"#bd3786\"],[0.5555555555555556,\"#d8576b\"],[0.6666666666666666,\"#ed7953\"],[0.7777777777777778,\"#fb9f3a\"],[0.8888888888888888,\"#fdca26\"],[1.0,\"#f0f921\"]]}],\"choropleth\":[{\"type\":\"choropleth\",\"colorbar\":{\"outlinewidth\":0,\"ticks\":\"\"}}],\"histogram2d\":[{\"type\":\"histogram2d\",\"colorbar\":{\"outlinewidth\":0,\"ticks\":\"\"},\"colorscale\":[[0.0,\"#0d0887\"],[0.1111111111111111,\"#46039f\"],[0.2222222222222222,\"#7201a8\"],[0.3333333333333333,\"#9c179e\"],[0.4444444444444444,\"#bd3786\"],[0.5555555555555556,\"#d8576b\"],[0.6666666666666666,\"#ed7953\"],[0.7777777777777778,\"#fb9f3a\"],[0.8888888888888888,\"#fdca26\"],[1.0,\"#f0f921\"]]}],\"heatmap\":[{\"type\":\"heatmap\",\"colorbar\":{\"outlinewidth\":0,\"ticks\":\"\"},\"colorscale\":[[0.0,\"#0d0887\"],[0.1111111111111111,\"#46039f\"],[0.2222222222222222,\"#7201a8\"],[0.3333333333333333,\"#9c179e\"],[0.4444444444444444,\"#bd3786\"],[0.5555555555555556,\"#d8576b\"],[0.6666666666666666,\"#ed7953\"],[0.7777777777777778,\"#fb9f3a\"],[0.8888888888888888,\"#fdca26\"],[1.0,\"#f0f921\"]]}],\"heatmapgl\":[{\"type\":\"heatmapgl\",\"colorbar\":{\"outlinewidth\":0,\"ticks\":\"\"},\"colorscale\":[[0.0,\"#0d0887\"],[0.1111111111111111,\"#46039f\"],[0.2222222222222222,\"#7201a8\"],[0.3333333333333333,\"#9c179e\"],[0.4444444444444444,\"#bd3786\"],[0.5555555555555556,\"#d8576b\"],[0.6666666666666666,\"#ed7953\"],[0.7777777777777778,\"#fb9f3a\"],[0.8888888888888888,\"#fdca26\"],[1.0,\"#f0f921\"]]}],\"contourcarpet\":[{\"type\":\"contourcarpet\",\"colorbar\":{\"outlinewidth\":0,\"ticks\":\"\"}}],\"contour\":[{\"type\":\"contour\",\"colorbar\":{\"outlinewidth\":0,\"ticks\":\"\"},\"colorscale\":[[0.0,\"#0d0887\"],[0.1111111111111111,\"#46039f\"],[0.2222222222222222,\"#7201a8\"],[0.3333333333333333,\"#9c179e\"],[0.4444444444444444,\"#bd3786\"],[0.5555555555555556,\"#d8576b\"],[0.6666666666666666,\"#ed7953\"],[0.7777777777777778,\"#fb9f3a\"],[0.8888888888888888,\"#fdca26\"],[1.0,\"#f0f921\"]]}],\"surface\":[{\"type\":\"surface\",\"colorbar\":{\"outlinewidth\":0,\"ticks\":\"\"},\"colorscale\":[[0.0,\"#0d0887\"],[0.1111111111111111,\"#46039f\"],[0.2222222222222222,\"#7201a8\"],[0.3333333333333333,\"#9c179e\"],[0.4444444444444444,\"#bd3786\"],[0.5555555555555556,\"#d8576b\"],[0.6666666666666666,\"#ed7953\"],[0.7777777777777778,\"#fb9f3a\"],[0.8888888888888888,\"#fdca26\"],[1.0,\"#f0f921\"]]}],\"mesh3d\":[{\"type\":\"mesh3d\",\"colorbar\":{\"outlinewidth\":0,\"ticks\":\"\"}}],\"scatter\":[{\"fillpattern\":{\"fillmode\":\"overlay\",\"size\":10,\"solidity\":0.2},\"type\":\"scatter\"}],\"parcoords\":[{\"type\":\"parcoords\",\"line\":{\"colorbar\":{\"outlinewidth\":0,\"ticks\":\"\"}}}],\"scatterpolargl\":[{\"type\":\"scatterpolargl\",\"marker\":{\"colorbar\":{\"outlinewidth\":0,\"ticks\":\"\"}}}],\"bar\":[{\"error_x\":{\"color\":\"#2a3f5f\"},\"error_y\":{\"color\":\"#2a3f5f\"},\"marker\":{\"line\":{\"color\":\"#E5ECF6\",\"width\":0.5},\"pattern\":{\"fillmode\":\"overlay\",\"size\":10,\"solidity\":0.2}},\"type\":\"bar\"}],\"scattergeo\":[{\"type\":\"scattergeo\",\"marker\":{\"colorbar\":{\"outlinewidth\":0,\"ticks\":\"\"}}}],\"scatterpolar\":[{\"type\":\"scatterpolar\",\"marker\":{\"colorbar\":{\"outlinewidth\":0,\"ticks\":\"\"}}}],\"histogram\":[{\"marker\":{\"pattern\":{\"fillmode\":\"overlay\",\"size\":10,\"solidity\":0.2}},\"type\":\"histogram\"}],\"scattergl\":[{\"type\":\"scattergl\",\"marker\":{\"colorbar\":{\"outlinewidth\":0,\"ticks\":\"\"}}}],\"scatter3d\":[{\"type\":\"scatter3d\",\"line\":{\"colorbar\":{\"outlinewidth\":0,\"ticks\":\"\"}},\"marker\":{\"colorbar\":{\"outlinewidth\":0,\"ticks\":\"\"}}}],\"scattermapbox\":[{\"type\":\"scattermapbox\",\"marker\":{\"colorbar\":{\"outlinewidth\":0,\"ticks\":\"\"}}}],\"scatterternary\":[{\"type\":\"scatterternary\",\"marker\":{\"colorbar\":{\"outlinewidth\":0,\"ticks\":\"\"}}}],\"scattercarpet\":[{\"type\":\"scattercarpet\",\"marker\":{\"colorbar\":{\"outlinewidth\":0,\"ticks\":\"\"}}}],\"carpet\":[{\"aaxis\":{\"endlinecolor\":\"#2a3f5f\",\"gridcolor\":\"white\",\"linecolor\":\"white\",\"minorgridcolor\":\"white\",\"startlinecolor\":\"#2a3f5f\"},\"baxis\":{\"endlinecolor\":\"#2a3f5f\",\"gridcolor\":\"white\",\"linecolor\":\"white\",\"minorgridcolor\":\"white\",\"startlinecolor\":\"#2a3f5f\"},\"type\":\"carpet\"}],\"table\":[{\"cells\":{\"fill\":{\"color\":\"#EBF0F8\"},\"line\":{\"color\":\"white\"}},\"header\":{\"fill\":{\"color\":\"#C8D4E3\"},\"line\":{\"color\":\"white\"}},\"type\":\"table\"}],\"barpolar\":[{\"marker\":{\"line\":{\"color\":\"#E5ECF6\",\"width\":0.5},\"pattern\":{\"fillmode\":\"overlay\",\"size\":10,\"solidity\":0.2}},\"type\":\"barpolar\"}],\"pie\":[{\"automargin\":true,\"type\":\"pie\"}]},\"layout\":{\"autotypenumbers\":\"strict\",\"colorway\":[\"#636efa\",\"#EF553B\",\"#00cc96\",\"#ab63fa\",\"#FFA15A\",\"#19d3f3\",\"#FF6692\",\"#B6E880\",\"#FF97FF\",\"#FECB52\"],\"font\":{\"color\":\"#2a3f5f\"},\"hovermode\":\"closest\",\"hoverlabel\":{\"align\":\"left\"},\"paper_bgcolor\":\"white\",\"plot_bgcolor\":\"#E5ECF6\",\"polar\":{\"bgcolor\":\"#E5ECF6\",\"angularaxis\":{\"gridcolor\":\"white\",\"linecolor\":\"white\",\"ticks\":\"\"},\"radialaxis\":{\"gridcolor\":\"white\",\"linecolor\":\"white\",\"ticks\":\"\"}},\"ternary\":{\"bgcolor\":\"#E5ECF6\",\"aaxis\":{\"gridcolor\":\"white\",\"linecolor\":\"white\",\"ticks\":\"\"},\"baxis\":{\"gridcolor\":\"white\",\"linecolor\":\"white\",\"ticks\":\"\"},\"caxis\":{\"gridcolor\":\"white\",\"linecolor\":\"white\",\"ticks\":\"\"}},\"coloraxis\":{\"colorbar\":{\"outlinewidth\":0,\"ticks\":\"\"}},\"colorscale\":{\"sequential\":[[0.0,\"#0d0887\"],[0.1111111111111111,\"#46039f\"],[0.2222222222222222,\"#7201a8\"],[0.3333333333333333,\"#9c179e\"],[0.4444444444444444,\"#bd3786\"],[0.5555555555555556,\"#d8576b\"],[0.6666666666666666,\"#ed7953\"],[0.7777777777777778,\"#fb9f3a\"],[0.8888888888888888,\"#fdca26\"],[1.0,\"#f0f921\"]],\"sequentialminus\":[[0.0,\"#0d0887\"],[0.1111111111111111,\"#46039f\"],[0.2222222222222222,\"#7201a8\"],[0.3333333333333333,\"#9c179e\"],[0.4444444444444444,\"#bd3786\"],[0.5555555555555556,\"#d8576b\"],[0.6666666666666666,\"#ed7953\"],[0.7777777777777778,\"#fb9f3a\"],[0.8888888888888888,\"#fdca26\"],[1.0,\"#f0f921\"]],\"diverging\":[[0,\"#8e0152\"],[0.1,\"#c51b7d\"],[0.2,\"#de77ae\"],[0.3,\"#f1b6da\"],[0.4,\"#fde0ef\"],[0.5,\"#f7f7f7\"],[0.6,\"#e6f5d0\"],[0.7,\"#b8e186\"],[0.8,\"#7fbc41\"],[0.9,\"#4d9221\"],[1,\"#276419\"]]},\"xaxis\":{\"gridcolor\":\"white\",\"linecolor\":\"white\",\"ticks\":\"\",\"title\":{\"standoff\":15},\"zerolinecolor\":\"white\",\"automargin\":true,\"zerolinewidth\":2},\"yaxis\":{\"gridcolor\":\"white\",\"linecolor\":\"white\",\"ticks\":\"\",\"title\":{\"standoff\":15},\"zerolinecolor\":\"white\",\"automargin\":true,\"zerolinewidth\":2},\"scene\":{\"xaxis\":{\"backgroundcolor\":\"#E5ECF6\",\"gridcolor\":\"white\",\"linecolor\":\"white\",\"showbackground\":true,\"ticks\":\"\",\"zerolinecolor\":\"white\",\"gridwidth\":2},\"yaxis\":{\"backgroundcolor\":\"#E5ECF6\",\"gridcolor\":\"white\",\"linecolor\":\"white\",\"showbackground\":true,\"ticks\":\"\",\"zerolinecolor\":\"white\",\"gridwidth\":2},\"zaxis\":{\"backgroundcolor\":\"#E5ECF6\",\"gridcolor\":\"white\",\"linecolor\":\"white\",\"showbackground\":true,\"ticks\":\"\",\"zerolinecolor\":\"white\",\"gridwidth\":2}},\"shapedefaults\":{\"line\":{\"color\":\"#2a3f5f\"}},\"annotationdefaults\":{\"arrowcolor\":\"#2a3f5f\",\"arrowhead\":0,\"arrowwidth\":1},\"geo\":{\"bgcolor\":\"white\",\"landcolor\":\"#E5ECF6\",\"subunitcolor\":\"white\",\"showland\":true,\"showlakes\":true,\"lakecolor\":\"white\"},\"title\":{\"x\":0.05},\"mapbox\":{\"style\":\"light\"}}},\"geo\":{\"domain\":{\"x\":[0.0,1.0],\"y\":[0.0,1.0]},\"center\":{},\"scope\":\"usa\"},\"coloraxis\":{\"colorbar\":{\"title\":{\"text\":\"CHGOFF\"}},\"colorscale\":[[0.0,\"rgb(5,48,97)\"],[0.1,\"rgb(33,102,172)\"],[0.2,\"rgb(67,147,195)\"],[0.3,\"rgb(146,197,222)\"],[0.4,\"rgb(209,229,240)\"],[0.5,\"rgb(247,247,247)\"],[0.6,\"rgb(253,219,199)\"],[0.7,\"rgb(244,165,130)\"],[0.8,\"rgb(214,96,77)\"],[0.9,\"rgb(178,24,43)\"],[1.0,\"rgb(103,0,31)\"]]},\"legend\":{\"tracegroupgap\":0},\"title\":{\"text\":\"State Shaded by Default Rate of Loans Disbursed before 2011\"}},                        {\"responsive\": true}                    ).then(function(){\n",
       "                            \n",
       "var gd = document.getElementById('744fbb77-3578-4593-bc34-9bf4a274dc39');\n",
       "var x = new MutationObserver(function (mutations, observer) {{\n",
       "        var display = window.getComputedStyle(gd).display;\n",
       "        if (!display || display === 'none') {{\n",
       "            console.log([gd, 'removed!']);\n",
       "            Plotly.purge(gd);\n",
       "            observer.disconnect();\n",
       "        }}\n",
       "}});\n",
       "\n",
       "// Listen for the removal of the full notebook cells\n",
       "var notebookContainer = gd.closest('#notebook-container');\n",
       "if (notebookContainer) {{\n",
       "    x.observe(notebookContainer, {childList: true});\n",
       "}}\n",
       "\n",
       "// Listen for the clearing of the current output cell\n",
       "var outputEl = gd.closest('.output');\n",
       "if (outputEl) {{\n",
       "    x.observe(outputEl, {childList: true});\n",
       "}}\n",
       "\n",
       "                        })                };                });            </script>        </div>"
      ]
     },
     "metadata": {},
     "output_type": "display_data"
    }
   ],
   "source": [
    "# Get state default rates\n",
    "state_defaults = Table.group_by_rate(\n",
    "    df,\n",
    "    'State',\n",
    "    'MIS_Status',\n",
    "    ['CHGOFF'],\n",
    "    states_desc\n",
    ")\n",
    "# Plot state default rates\n",
    "fig_state_defaults = Plot.plot_choropleth(\n",
    "    title='State Shaded by Default Rate of Loans Disbursed before 2011',\n",
    "    data=state_defaults,\n",
    "    color_col='CHGOFF',\n",
    "    locations='State'\n",
    ")\n",
    "Table.print_top_bottom(state_defaults, 'State', 'CHGOFF')\n",
    "fig_state_defaults"
   ]
  },
  {
   "cell_type": "markdown",
   "id": "641e5644-1dae-4d1c-9000-8b0a53bbc531",
   "metadata": {},
   "source": [
    "- States like Florida, D.C., and Georgia have the highest loan default rates (>23%), indicating higher credit risk.\n",
    "- Mountain and Northern Plains states like Montana, Wyoming, and Vermont have the lowest default rates (<8%), showing relatively safer lending environments.\n"
   ]
  },
  {
   "cell_type": "markdown",
   "id": "361ecbce-4c6a-4cdf-94a1-a32d2780d6d7",
   "metadata": {},
   "source": [
    "#### Industry: `NAICS`\n",
    "- Extract the first two digits of the NAICS code to classify loans by broad industry sectors.\n",
    "- Calculate the default (CHGOFF) rate within each industry group."
   ]
  },
  {
   "cell_type": "code",
   "execution_count": 48,
   "id": "1d14e3a8-4366-4935-9536-e87ee2addf9b",
   "metadata": {},
   "outputs": [],
   "source": [
    "# INDUSTRY\n",
    "# Crearte NAICS2 variable with only first two digits\n",
    "df['NAICS'] = df['NAICS'].astype(str)\n",
    "df['NAICS2'] = df['NAICS'].str[:2]"
   ]
  },
  {
   "cell_type": "code",
   "execution_count": 49,
   "id": "240e4cf7-da5e-4845-ba38-e702843551bd",
   "metadata": {},
   "outputs": [
    {
     "data": {
      "text/html": [
       "<div>\n",
       "<style scoped>\n",
       "    .dataframe tbody tr th:only-of-type {\n",
       "        vertical-align: middle;\n",
       "    }\n",
       "\n",
       "    .dataframe tbody tr th {\n",
       "        vertical-align: top;\n",
       "    }\n",
       "\n",
       "    .dataframe thead th {\n",
       "        text-align: right;\n",
       "    }\n",
       "</style>\n",
       "<table border=\"1\" class=\"dataframe\">\n",
       "  <thead>\n",
       "    <tr style=\"text-align: right;\">\n",
       "      <th>MIS_Status</th>\n",
       "      <th>NAICS2</th>\n",
       "      <th>Description</th>\n",
       "      <th>CHGOFF</th>\n",
       "    </tr>\n",
       "  </thead>\n",
       "  <tbody>\n",
       "    <tr>\n",
       "      <th>0</th>\n",
       "      <td>0</td>\n",
       "      <td>NaN</td>\n",
       "      <td>8.26</td>\n",
       "    </tr>\n",
       "    <tr>\n",
       "      <th>1</th>\n",
       "      <td>21</td>\n",
       "      <td>Mining, quarrying, and oil and gas extraction</td>\n",
       "      <td>8.86</td>\n",
       "    </tr>\n",
       "    <tr>\n",
       "      <th>2</th>\n",
       "      <td>11</td>\n",
       "      <td>Agriculture, forestry, fishing and hunting</td>\n",
       "      <td>9.36</td>\n",
       "    </tr>\n",
       "    <tr>\n",
       "      <th>3</th>\n",
       "      <td>55</td>\n",
       "      <td>Management of companies and enterprises</td>\n",
       "      <td>10.44</td>\n",
       "    </tr>\n",
       "    <tr>\n",
       "      <th>4</th>\n",
       "      <td>62</td>\n",
       "      <td>Health care and social assistance</td>\n",
       "      <td>10.64</td>\n",
       "    </tr>\n",
       "    <tr>\n",
       "      <th>5</th>\n",
       "      <td>33</td>\n",
       "      <td>Manufacturing</td>\n",
       "      <td>13.97</td>\n",
       "    </tr>\n",
       "    <tr>\n",
       "      <th>6</th>\n",
       "      <td>22</td>\n",
       "      <td>Utilities</td>\n",
       "      <td>14.71</td>\n",
       "    </tr>\n",
       "    <tr>\n",
       "      <th>7</th>\n",
       "      <td>92</td>\n",
       "      <td>Public administration</td>\n",
       "      <td>15.25</td>\n",
       "    </tr>\n",
       "    <tr>\n",
       "      <th>8</th>\n",
       "      <td>32</td>\n",
       "      <td>Manufacturing</td>\n",
       "      <td>16.75</td>\n",
       "    </tr>\n",
       "    <tr>\n",
       "      <th>9</th>\n",
       "      <td>54</td>\n",
       "      <td>Professional, scientific, and technical services</td>\n",
       "      <td>19.62</td>\n",
       "    </tr>\n",
       "    <tr>\n",
       "      <th>10</th>\n",
       "      <td>81</td>\n",
       "      <td>Other services (except public administration)</td>\n",
       "      <td>19.89</td>\n",
       "    </tr>\n",
       "    <tr>\n",
       "      <th>11</th>\n",
       "      <td>31</td>\n",
       "      <td>Manufacturing</td>\n",
       "      <td>19.93</td>\n",
       "    </tr>\n",
       "    <tr>\n",
       "      <th>12</th>\n",
       "      <td>42</td>\n",
       "      <td>Wholesale trade</td>\n",
       "      <td>20.02</td>\n",
       "    </tr>\n",
       "    <tr>\n",
       "      <th>13</th>\n",
       "      <td>71</td>\n",
       "      <td>Arts, entertainment, and recreation</td>\n",
       "      <td>20.97</td>\n",
       "    </tr>\n",
       "    <tr>\n",
       "      <th>14</th>\n",
       "      <td>72</td>\n",
       "      <td>Accommodation and food services</td>\n",
       "      <td>22.44</td>\n",
       "    </tr>\n",
       "    <tr>\n",
       "      <th>15</th>\n",
       "      <td>44</td>\n",
       "      <td>Retail trade</td>\n",
       "      <td>22.73</td>\n",
       "    </tr>\n",
       "    <tr>\n",
       "      <th>16</th>\n",
       "      <td>49</td>\n",
       "      <td>Transportation and warehousing</td>\n",
       "      <td>23.49</td>\n",
       "    </tr>\n",
       "    <tr>\n",
       "      <th>17</th>\n",
       "      <td>45</td>\n",
       "      <td>Retail trade</td>\n",
       "      <td>23.64</td>\n",
       "    </tr>\n",
       "    <tr>\n",
       "      <th>18</th>\n",
       "      <td>23</td>\n",
       "      <td>Construction</td>\n",
       "      <td>23.91</td>\n",
       "    </tr>\n",
       "    <tr>\n",
       "      <th>19</th>\n",
       "      <td>56</td>\n",
       "      <td>Administrative and support, waste management</td>\n",
       "      <td>24.07</td>\n",
       "    </tr>\n",
       "    <tr>\n",
       "      <th>20</th>\n",
       "      <td>61</td>\n",
       "      <td>Educational services</td>\n",
       "      <td>24.72</td>\n",
       "    </tr>\n",
       "    <tr>\n",
       "      <th>21</th>\n",
       "      <td>51</td>\n",
       "      <td>Information</td>\n",
       "      <td>25.42</td>\n",
       "    </tr>\n",
       "    <tr>\n",
       "      <th>22</th>\n",
       "      <td>48</td>\n",
       "      <td>Transportation and warehousing</td>\n",
       "      <td>28.04</td>\n",
       "    </tr>\n",
       "    <tr>\n",
       "      <th>23</th>\n",
       "      <td>52</td>\n",
       "      <td>Finance and insurance</td>\n",
       "      <td>29.21</td>\n",
       "    </tr>\n",
       "    <tr>\n",
       "      <th>24</th>\n",
       "      <td>53</td>\n",
       "      <td>Real estate and rental and leasing</td>\n",
       "      <td>29.47</td>\n",
       "    </tr>\n",
       "  </tbody>\n",
       "</table>\n",
       "</div>"
      ],
      "text/plain": [
       "MIS_Status NAICS2                                       Description  CHGOFF\n",
       "0               0                                               NaN    8.26\n",
       "1              21     Mining, quarrying, and oil and gas extraction    8.86\n",
       "2              11        Agriculture, forestry, fishing and hunting    9.36\n",
       "3              55           Management of companies and enterprises   10.44\n",
       "4              62                 Health care and social assistance   10.64\n",
       "5              33                                     Manufacturing   13.97\n",
       "6              22                                         Utilities   14.71\n",
       "7              92                             Public administration   15.25\n",
       "8              32                                     Manufacturing   16.75\n",
       "9              54  Professional, scientific, and technical services   19.62\n",
       "10             81     Other services (except public administration)   19.89\n",
       "11             31                                     Manufacturing   19.93\n",
       "12             42                                   Wholesale trade   20.02\n",
       "13             71               Arts, entertainment, and recreation   20.97\n",
       "14             72                   Accommodation and food services   22.44\n",
       "15             44                                      Retail trade   22.73\n",
       "16             49                    Transportation and warehousing   23.49\n",
       "17             45                                      Retail trade   23.64\n",
       "18             23                                      Construction   23.91\n",
       "19             56      Administrative and support, waste management   24.07\n",
       "20             61                              Educational services   24.72\n",
       "21             51                                       Information   25.42\n",
       "22             48                    Transportation and warehousing   28.04\n",
       "23             52                             Finance and insurance   29.21\n",
       "24             53                Real estate and rental and leasing   29.47"
      ]
     },
     "execution_count": 49,
     "metadata": {},
     "output_type": "execute_result"
    }
   ],
   "source": [
    "# Calculate defaulr rates by industry\n",
    "industry_defaults = Table.group_by_rate(df, 'NAICS2', 'MIS_Status', ['CHGOFF'], naics_desc)\n",
    "industry_defaults"
   ]
  },
  {
   "cell_type": "markdown",
   "id": "baaab2a3-f503-4e85-86e9-4a945b3500d9",
   "metadata": {},
   "source": [
    "- Real Estate, Finance, and Transportation show the highest default rates (~28–29%), indicating high-risk sectors.\n",
    "- Mining, Health Care, and Management have the lowest default rates (<11%), suggesting more stable lending."
   ]
  },
  {
   "cell_type": "markdown",
   "id": "4df73cb0-2a13-438d-9b17-50220287297a",
   "metadata": {},
   "source": [
    "#### Gross Disbursement: `DisbursementGross`\n",
    "- Group loans by disbursement quartiles.\n",
    "- Calculate default rates within each quartile."
   ]
  },
  {
   "cell_type": "code",
   "execution_count": 50,
   "id": "459be301-e135-49d8-a448-6bf4a01ba0d8",
   "metadata": {},
   "outputs": [
    {
     "name": "stdout",
     "output_type": "stream",
     "text": [
      "object\n"
     ]
    }
   ],
   "source": [
    "# GROSS DISBURSEMENT\n",
    "print(df['DisbursementGross'].dtype)"
   ]
  },
  {
   "cell_type": "code",
   "execution_count": 51,
   "id": "24783350-02c2-40b5-8f9b-c197b669b6ac",
   "metadata": {},
   "outputs": [
    {
     "name": "stdout",
     "output_type": "stream",
     "text": [
      "[ 60000.  40000. 287000. ... 300000.  75000.  30000.]\n",
      "float64\n"
     ]
    }
   ],
   "source": [
    "# Convert values to float and remove signs\n",
    "df = Prep.unsign(df, ['DisbursementGross'])\n",
    "print(df['DisbursementGross'].values)\n",
    "print(df['DisbursementGross'].dtype)"
   ]
  },
  {
   "cell_type": "code",
   "execution_count": 52,
   "id": "c9ebb7fd-80aa-4db2-b7b6-201c40065ec1",
   "metadata": {},
   "outputs": [
    {
     "data": {
      "text/html": [
       "<div>\n",
       "<style scoped>\n",
       "    .dataframe tbody tr th:only-of-type {\n",
       "        vertical-align: middle;\n",
       "    }\n",
       "\n",
       "    .dataframe tbody tr th {\n",
       "        vertical-align: top;\n",
       "    }\n",
       "\n",
       "    .dataframe thead th {\n",
       "        text-align: right;\n",
       "    }\n",
       "</style>\n",
       "<table border=\"1\" class=\"dataframe\">\n",
       "  <thead>\n",
       "    <tr style=\"text-align: right;\">\n",
       "      <th></th>\n",
       "      <th>Quartiles</th>\n",
       "      <th>CHGOFF</th>\n",
       "      <th>PIF</th>\n",
       "    </tr>\n",
       "  </thead>\n",
       "  <tbody>\n",
       "    <tr>\n",
       "      <th>0</th>\n",
       "      <td>100% maximum</td>\n",
       "      <td>$4,362,157</td>\n",
       "      <td>$11,446,325</td>\n",
       "    </tr>\n",
       "    <tr>\n",
       "      <th>1</th>\n",
       "      <td>75% quartile</td>\n",
       "      <td>$140,613</td>\n",
       "      <td>$255,000</td>\n",
       "    </tr>\n",
       "    <tr>\n",
       "      <th>2</th>\n",
       "      <td>50% median</td>\n",
       "      <td>$61,864</td>\n",
       "      <td>$100,000</td>\n",
       "    </tr>\n",
       "    <tr>\n",
       "      <th>3</th>\n",
       "      <td>25% quartile</td>\n",
       "      <td>$27,746</td>\n",
       "      <td>$49,449</td>\n",
       "    </tr>\n",
       "    <tr>\n",
       "      <th>4</th>\n",
       "      <td>Minimum</td>\n",
       "      <td>$4,000</td>\n",
       "      <td>$4,000</td>\n",
       "    </tr>\n",
       "  </tbody>\n",
       "</table>\n",
       "</div>"
      ],
      "text/plain": [
       "      Quartiles      CHGOFF          PIF\n",
       "0  100% maximum  $4,362,157  $11,446,325\n",
       "1  75% quartile    $140,613     $255,000\n",
       "2    50% median     $61,864     $100,000\n",
       "3  25% quartile     $27,746      $49,449\n",
       "4       Minimum      $4,000       $4,000"
      ]
     },
     "execution_count": 52,
     "metadata": {},
     "output_type": "execute_result"
    }
   ],
   "source": [
    "# Calculate loan amount quartiles\n",
    "dgross_quartiles = Table.quartiles_by_outcomes(df, 'DisbursementGross', 'MIS_Status')\n",
    "dgross_quartiles"
   ]
  },
  {
   "cell_type": "markdown",
   "id": "16e6c19b-fc68-4433-b14f-89ef82602018",
   "metadata": {},
   "source": [
    "- Smaller loans are more likely to default.\n",
    "- Large loans are often safer: 75% quartile for repaid 255K > defaulted $140K.\n",
    "- `DisbursementGross` is a strong predictor: Clear difference between distributions for defaulted vs repaid loans.\n"
   ]
  },
  {
   "cell_type": "markdown",
   "id": "996039c5-e01b-46ef-8231-5fd94f2af45c",
   "metadata": {},
   "source": [
    "#### New versus Established Businesses: `NewExist`\n",
    "Calculating and visualizing default rates by new vs existing businesses."
   ]
  },
  {
   "cell_type": "code",
   "execution_count": 53,
   "id": "b4f5b01d-9554-4f3b-af4c-671acc4a2c91",
   "metadata": {},
   "outputs": [
    {
     "name": "stdout",
     "output_type": "stream",
     "text": [
      "NewExist\n",
      "1.0    627991\n",
      "2.0    246132\n",
      "0.0      1024\n",
      "NaN       103\n",
      "Name: count, dtype: int64\n",
      "[ 2.  1.  0. nan]\n"
     ]
    }
   ],
   "source": [
    "# NEW OR EXISTING BUSINESSES\n",
    "print(df['NewExist'].value_counts(dropna=False))\n",
    "print(df['NewExist'].unique())"
   ]
  },
  {
   "cell_type": "code",
   "execution_count": 54,
   "id": "3fdc69ae-e24d-4bd9-bdae-2f8efbc99ec9",
   "metadata": {},
   "outputs": [],
   "source": [
    "# Clean and filter NewExist\n",
    "df = df[df['NewExist'].isin([1, 2])]"
   ]
  },
  {
   "cell_type": "code",
   "execution_count": 11,
   "id": "49242cdf-81d8-4ff7-b97f-aec08d1559c3",
   "metadata": {},
   "outputs": [
    {
     "data": {
      "text/html": [
       "<div>\n",
       "<style scoped>\n",
       "    .dataframe tbody tr th:only-of-type {\n",
       "        vertical-align: middle;\n",
       "    }\n",
       "\n",
       "    .dataframe tbody tr th {\n",
       "        vertical-align: top;\n",
       "    }\n",
       "\n",
       "    .dataframe thead th {\n",
       "        text-align: right;\n",
       "    }\n",
       "</style>\n",
       "<table border=\"1\" class=\"dataframe\">\n",
       "  <thead>\n",
       "    <tr style=\"text-align: right;\">\n",
       "      <th>MIS_Status</th>\n",
       "      <th>NewExist</th>\n",
       "      <th>Description</th>\n",
       "      <th>CHGOFF</th>\n",
       "    </tr>\n",
       "  </thead>\n",
       "  <tbody>\n",
       "    <tr>\n",
       "      <th>0</th>\n",
       "      <td>0.0</td>\n",
       "      <td>NaN</td>\n",
       "      <td>6.13</td>\n",
       "    </tr>\n",
       "    <tr>\n",
       "      <th>1</th>\n",
       "      <td>1.0</td>\n",
       "      <td>Existing</td>\n",
       "      <td>17.11</td>\n",
       "    </tr>\n",
       "    <tr>\n",
       "      <th>2</th>\n",
       "      <td>2.0</td>\n",
       "      <td>New</td>\n",
       "      <td>18.75</td>\n",
       "    </tr>\n",
       "  </tbody>\n",
       "</table>\n",
       "</div>"
      ],
      "text/plain": [
       "MIS_Status  NewExist Description  CHGOFF\n",
       "0                0.0         NaN    6.13\n",
       "1                1.0    Existing   17.11\n",
       "2                2.0         New   18.75"
      ]
     },
     "execution_count": 11,
     "metadata": {},
     "output_type": "execute_result"
    },
    {
     "data": {
      "image/png": "[encoded data removed]",
      "text/plain": [
       "<Figure size 300x450 with 1 Axes>"
      ]
     },
     "metadata": {},
     "output_type": "display_data"
    }
   ],
   "source": [
    "# Calculate and visualize\n",
    "newexist_defaults = Table.group_by_rate(\n",
    "    df, \n",
    "    'NewExist',\n",
    "    'MIS_Status',\n",
    "    ['CHGOFF'],\n",
    "    newexist_desc\n",
    ")\n",
    "fig_newexist_defaults = Plot.plot_barplot(\n",
    "    'Businesses', \n",
    "    newexist_defaults, \n",
    "    'Description',\n",
    "    'CHGOFF'\n",
    ")\n",
    "newexist_defaults"
   ]
  },
  {
   "cell_type": "markdown",
   "id": "e45f44db-1d7a-4098-8f14-40d760ab76ec",
   "metadata": {},
   "source": [
    "- New businesses default slightly more than existing businesses.\n",
    "- `NewExist` is not a strong predictor."
   ]
  },
  {
   "cell_type": "markdown",
   "id": "6519516f-9f2a-4fae-a152-1e2e833f927a",
   "metadata": {},
   "source": [
    "### Loans Backed by Real Estate: `RealEstate`\n",
    "- Flag loans with terms ≥ 20 years as real-estate-backed loans.\n",
    "- Compare default and repayment rates for real-estate-backed vs. other loans."
   ]
  },
  {
   "cell_type": "code",
   "execution_count": 56,
   "id": "af4268fc-54fa-44fa-9b28-3fbab7358699",
   "metadata": {},
   "outputs": [
    {
     "data": {
      "text/plain": [
       "RealEstate\n",
       "0    724165\n",
       "1    149958\n",
       "Name: count, dtype: int64"
      ]
     },
     "execution_count": 56,
     "metadata": {},
     "output_type": "execute_result"
    }
   ],
   "source": [
    "# LOANS BACKED BY REAL ESTATE\n",
    "df['RealEstate'] = (df['Term'] >= 240).astype(int)\n",
    "df['RealEstate'].value_counts()"
   ]
  },
  {
   "cell_type": "code",
   "execution_count": 57,
   "id": "a7c24dbf-054b-46d3-b028-ad6115dcd587",
   "metadata": {},
   "outputs": [
    {
     "data": {
      "text/html": [
       "<div>\n",
       "<style scoped>\n",
       "    .dataframe tbody tr th:only-of-type {\n",
       "        vertical-align: middle;\n",
       "    }\n",
       "\n",
       "    .dataframe tbody tr th {\n",
       "        vertical-align: top;\n",
       "    }\n",
       "\n",
       "    .dataframe thead th {\n",
       "        text-align: right;\n",
       "    }\n",
       "</style>\n",
       "<table border=\"1\" class=\"dataframe\">\n",
       "  <thead>\n",
       "    <tr style=\"text-align: right;\">\n",
       "      <th>MIS_Status</th>\n",
       "      <th>RealEstate</th>\n",
       "      <th>Description</th>\n",
       "      <th>CHGOFF</th>\n",
       "      <th>PIF</th>\n",
       "    </tr>\n",
       "  </thead>\n",
       "  <tbody>\n",
       "    <tr>\n",
       "      <th>0</th>\n",
       "      <td>1</td>\n",
       "      <td>Backed by Real Estate (Term ≥ 240 months)</td>\n",
       "      <td>1.64</td>\n",
       "      <td>98.36</td>\n",
       "    </tr>\n",
       "    <tr>\n",
       "      <th>1</th>\n",
       "      <td>0</td>\n",
       "      <td>Not Backed by Real Estate</td>\n",
       "      <td>21.19</td>\n",
       "      <td>78.81</td>\n",
       "    </tr>\n",
       "  </tbody>\n",
       "</table>\n",
       "</div>"
      ],
      "text/plain": [
       "MIS_Status  RealEstate                                Description  CHGOFF  \\\n",
       "0                    1  Backed by Real Estate (Term ≥ 240 months)    1.64   \n",
       "1                    0                  Not Backed by Real Estate   21.19   \n",
       "\n",
       "MIS_Status    PIF  \n",
       "0           98.36  \n",
       "1           78.81  "
      ]
     },
     "execution_count": 57,
     "metadata": {},
     "output_type": "execute_result"
    }
   ],
   "source": [
    "# Compare default and repayment rates for real-estate loans vs other loans\n",
    "realestate_rates = Table.group_by_rate(df, 'RealEstate', 'MIS_Status', ['CHGOFF', 'PIF'], realestate_desc)\n",
    "realestate_rates"
   ]
  },
  {
   "cell_type": "markdown",
   "id": "ccff2e2a-9a15-4d27-9592-df6f5ac2894b",
   "metadata": {},
   "source": [
    "- Real-estate loans are far safer, with 12-13x lower default risk.\n",
    "- `RealEstate` is a strong predictor."
   ]
  },
  {
   "cell_type": "markdown",
   "id": "99faf862-66b3-4b64-a296-379ae0cf4b39",
   "metadata": {},
   "source": [
    "### Economic Recession: `Recession`\n",
    "- Create a new binary column **Recession: 1 = Active or 0 = Not Active during the recession**.\n",
    "- Compare default and repayment rates for both groups."
   ]
  },
  {
   "cell_type": "code",
   "execution_count": 58,
   "id": "c4acc03a-ff17-4710-a0f0-fd5fba050859",
   "metadata": {},
   "outputs": [],
   "source": [
    "# RECESSION\n",
    "recession_start = pd.to_datetime('2007-12-01')\n",
    "recession_end = pd.to_datetime('2009-06-30')\n",
    "\n",
    "df['Recession'] = (\n",
    "    (df['DisbursementDate'] <= recession_end) &\n",
    "    (\n",
    "        (df['DisbursementDate'].isna()) | (df['DisbursementDate'] >= recession_start)\n",
    "    )\n",
    ").astype(int)"
   ]
  },
  {
   "cell_type": "code",
   "execution_count": 59,
   "id": "7a56e791-90a2-483e-ba40-4354ca6a1529",
   "metadata": {},
   "outputs": [
    {
     "data": {
      "image/png": "[encoded data removed]",
      "text/plain": [
       "<Figure size 600x280 with 1 Axes>"
      ]
     },
     "metadata": {},
     "output_type": "display_data"
    }
   ],
   "source": [
    "# Calculate and visualize default rates of loans active vs not active during economic recession\n",
    "recession_rates = Table.group_by_rate(\n",
    "    df,\n",
    "    group_by_col='Recession',\n",
    "    target_col='MIS_Status',\n",
    "    labels=['CHGOFF', 'PIF'],\n",
    "    map_data={0: 'Not Active', 1: 'Active'}\n",
    ")\n",
    "\n",
    "fig_recession_rates = Plot.plot_binary_split_hbar(\n",
    "    data=recession_rates,\n",
    "    label_col='Description',\n",
    "    positive_col='CHGOFF',\n",
    "    negative_col='PIF',\n",
    "    positive_name='Default',\n",
    "    negative_name='Paid in full',\n",
    "    title='Loan Outcomes During Recession'\n",
    ")"
   ]
  },
  {
   "cell_type": "code",
   "execution_count": 60,
   "id": "59e46ba2-d46c-4fc3-921b-cc3a06e98449",
   "metadata": {},
   "outputs": [],
   "source": [
    "#Plot.save_figures({'fig_recession_rates':fig_recession_rates})"
   ]
  },
  {
   "cell_type": "markdown",
   "id": "ce6878d5-69c3-44f8-8dbe-fad90522c5c9",
   "metadata": {},
   "source": [
    "- Loans active during the Great Recession have a higher default rate (32.3%) than loans that were not active during the Recession (16.9%).\n",
    "- `Recession` shows some economic impact and may support other predictors in the model."
   ]
  },
  {
   "cell_type": "markdown",
   "id": "3301ffe5-80e4-49aa-b491-111eec35f471",
   "metadata": {},
   "source": [
    "#### SBA's Guaranteed Portion of Approved Loan: `Portion`\n",
    "- Create a dummy variable Portion by calculating SBA_Appv / GrAppv.\n",
    "- Visualize SBA guarantee portion across loan statuses."
   ]
  },
  {
   "cell_type": "code",
   "execution_count": 61,
   "id": "7c9b6d10-a28a-40cc-8033-53d8023b12dd",
   "metadata": {},
   "outputs": [
    {
     "data": {
      "text/plain": [
       "SBA_Appv    object\n",
       "GrAppv      object\n",
       "dtype: object"
      ]
     },
     "execution_count": 61,
     "metadata": {},
     "output_type": "execute_result"
    }
   ],
   "source": [
    "df[['SBA_Appv', 'GrAppv']].dtypes"
   ]
  },
  {
   "cell_type": "code",
   "execution_count": 12,
   "id": "fa1226d3-0d08-4997-bfd8-643e1f9c6534",
   "metadata": {},
   "outputs": [
    {
     "data": {
      "image/png": "[encoded data removed]",
      "text/plain": [
       "<Figure size 300x450 with 1 Axes>"
      ]
     },
     "metadata": {},
     "output_type": "display_data"
    }
   ],
   "source": [
    "# Remove signs, calculate SBA_Appv / GrAppv, visualize\n",
    "df = Prep.unsign(df, ['SBA_Appv', 'GrAppv'])\n",
    "df['Portion'] = df['SBA_Appv'] / df['GrAppv']\n",
    "\n",
    "fig_portion_rates = Plot.plot_boxplot_by_category(\n",
    "    data=df,\n",
    "    x_col='MIS_Status',\n",
    "    y_col='Portion',\n",
    "    x_labels=['Paid in Full', 'Default'],\n",
    "    title='SBA Guaranteed Portion',\n",
    "    ylabel='Portion'\n",
    ")"
   ]
  },
  {
   "cell_type": "markdown",
   "id": "aaf4c928-e869-4acc-b286-2eaa287a8ab0",
   "metadata": {},
   "source": [
    "- Defaulted loans tend to have a slightly lower median SBA portion than fully paid loans.\n",
    "- Both distributions are similar, suggesting SBA coverage has limited direct effect on default rates.\n",
    "- `Portion` is not a very strong predictor, though it may support other predictors in the model."
   ]
  },
  {
   "cell_type": "code",
   "execution_count": 63,
   "id": "2a5926fa-4207-41b5-b32b-064e56674351",
   "metadata": {},
   "outputs": [
    {
     "name": "stdout",
     "output_type": "stream",
     "text": [
      "(874123, 31)\n"
     ]
    },
    {
     "data": {
      "text/html": [
       "<div>\n",
       "<style scoped>\n",
       "    .dataframe tbody tr th:only-of-type {\n",
       "        vertical-align: middle;\n",
       "    }\n",
       "\n",
       "    .dataframe tbody tr th {\n",
       "        vertical-align: top;\n",
       "    }\n",
       "\n",
       "    .dataframe thead th {\n",
       "        text-align: right;\n",
       "    }\n",
       "</style>\n",
       "<table border=\"1\" class=\"dataframe\">\n",
       "  <thead>\n",
       "    <tr style=\"text-align: right;\">\n",
       "      <th></th>\n",
       "      <th>0</th>\n",
       "      <th>1</th>\n",
       "      <th>2</th>\n",
       "      <th>3</th>\n",
       "      <th>4</th>\n",
       "    </tr>\n",
       "  </thead>\n",
       "  <tbody>\n",
       "    <tr>\n",
       "      <th>LoanNr_ChkDgt</th>\n",
       "      <td>1000014003</td>\n",
       "      <td>1000024006</td>\n",
       "      <td>1000034009</td>\n",
       "      <td>1000044001</td>\n",
       "      <td>1000054004</td>\n",
       "    </tr>\n",
       "    <tr>\n",
       "      <th>Name</th>\n",
       "      <td>ABC HOBBYCRAFT</td>\n",
       "      <td>LANDMARK BAR &amp; GRILLE (THE)</td>\n",
       "      <td>WHITLOCK DDS, TODD M.</td>\n",
       "      <td>BIG BUCKS PAWN &amp; JEWELRY, LLC</td>\n",
       "      <td>ANASTASIA CONFECTIONS, INC.</td>\n",
       "    </tr>\n",
       "    <tr>\n",
       "      <th>City</th>\n",
       "      <td>EVANSVILLE</td>\n",
       "      <td>NEW PARIS</td>\n",
       "      <td>BLOOMINGTON</td>\n",
       "      <td>BROKEN ARROW</td>\n",
       "      <td>ORLANDO</td>\n",
       "    </tr>\n",
       "    <tr>\n",
       "      <th>State</th>\n",
       "      <td>IN</td>\n",
       "      <td>IN</td>\n",
       "      <td>IN</td>\n",
       "      <td>OK</td>\n",
       "      <td>FL</td>\n",
       "    </tr>\n",
       "    <tr>\n",
       "      <th>Zip</th>\n",
       "      <td>47711</td>\n",
       "      <td>46526</td>\n",
       "      <td>47401</td>\n",
       "      <td>74012</td>\n",
       "      <td>32801</td>\n",
       "    </tr>\n",
       "    <tr>\n",
       "      <th>Bank</th>\n",
       "      <td>FIFTH THIRD BANK</td>\n",
       "      <td>1ST SOURCE BANK</td>\n",
       "      <td>GRANT COUNTY STATE BANK</td>\n",
       "      <td>1ST NATL BK &amp; TR CO OF BROKEN</td>\n",
       "      <td>FLORIDA BUS. DEVEL CORP</td>\n",
       "    </tr>\n",
       "    <tr>\n",
       "      <th>BankState</th>\n",
       "      <td>OH</td>\n",
       "      <td>IN</td>\n",
       "      <td>IN</td>\n",
       "      <td>OK</td>\n",
       "      <td>FL</td>\n",
       "    </tr>\n",
       "    <tr>\n",
       "      <th>NAICS</th>\n",
       "      <td>451120</td>\n",
       "      <td>722410</td>\n",
       "      <td>621210</td>\n",
       "      <td>0</td>\n",
       "      <td>0</td>\n",
       "    </tr>\n",
       "    <tr>\n",
       "      <th>ApprovalDate</th>\n",
       "      <td>28-Feb-97</td>\n",
       "      <td>28-Feb-97</td>\n",
       "      <td>28-Feb-97</td>\n",
       "      <td>28-Feb-97</td>\n",
       "      <td>28-Feb-97</td>\n",
       "    </tr>\n",
       "    <tr>\n",
       "      <th>ApprovalFY</th>\n",
       "      <td>1997</td>\n",
       "      <td>1997</td>\n",
       "      <td>1997</td>\n",
       "      <td>1997</td>\n",
       "      <td>1997</td>\n",
       "    </tr>\n",
       "    <tr>\n",
       "      <th>Term</th>\n",
       "      <td>84</td>\n",
       "      <td>60</td>\n",
       "      <td>180</td>\n",
       "      <td>60</td>\n",
       "      <td>240</td>\n",
       "    </tr>\n",
       "    <tr>\n",
       "      <th>NoEmp</th>\n",
       "      <td>4</td>\n",
       "      <td>2</td>\n",
       "      <td>7</td>\n",
       "      <td>2</td>\n",
       "      <td>14</td>\n",
       "    </tr>\n",
       "    <tr>\n",
       "      <th>NewExist</th>\n",
       "      <td>2.0</td>\n",
       "      <td>2.0</td>\n",
       "      <td>1.0</td>\n",
       "      <td>1.0</td>\n",
       "      <td>1.0</td>\n",
       "    </tr>\n",
       "    <tr>\n",
       "      <th>CreateJob</th>\n",
       "      <td>0</td>\n",
       "      <td>0</td>\n",
       "      <td>0</td>\n",
       "      <td>0</td>\n",
       "      <td>7</td>\n",
       "    </tr>\n",
       "    <tr>\n",
       "      <th>RetainedJob</th>\n",
       "      <td>0</td>\n",
       "      <td>0</td>\n",
       "      <td>0</td>\n",
       "      <td>0</td>\n",
       "      <td>7</td>\n",
       "    </tr>\n",
       "    <tr>\n",
       "      <th>FranchiseCode</th>\n",
       "      <td>1</td>\n",
       "      <td>1</td>\n",
       "      <td>1</td>\n",
       "      <td>1</td>\n",
       "      <td>1</td>\n",
       "    </tr>\n",
       "    <tr>\n",
       "      <th>UrbanRural</th>\n",
       "      <td>0</td>\n",
       "      <td>0</td>\n",
       "      <td>0</td>\n",
       "      <td>0</td>\n",
       "      <td>0</td>\n",
       "    </tr>\n",
       "    <tr>\n",
       "      <th>RevLineCr</th>\n",
       "      <td>N</td>\n",
       "      <td>N</td>\n",
       "      <td>N</td>\n",
       "      <td>N</td>\n",
       "      <td>N</td>\n",
       "    </tr>\n",
       "    <tr>\n",
       "      <th>LowDoc</th>\n",
       "      <td>Y</td>\n",
       "      <td>Y</td>\n",
       "      <td>N</td>\n",
       "      <td>Y</td>\n",
       "      <td>N</td>\n",
       "    </tr>\n",
       "    <tr>\n",
       "      <th>ChgOffDate</th>\n",
       "      <td>NaN</td>\n",
       "      <td>NaN</td>\n",
       "      <td>NaN</td>\n",
       "      <td>NaN</td>\n",
       "      <td>NaN</td>\n",
       "    </tr>\n",
       "    <tr>\n",
       "      <th>DisbursementDate</th>\n",
       "      <td>1999-02-28 00:00:00</td>\n",
       "      <td>1997-05-31 00:00:00</td>\n",
       "      <td>1997-12-31 00:00:00</td>\n",
       "      <td>1997-06-30 00:00:00</td>\n",
       "      <td>1997-05-14 00:00:00</td>\n",
       "    </tr>\n",
       "    <tr>\n",
       "      <th>DisbursementGross</th>\n",
       "      <td>60000.0</td>\n",
       "      <td>40000.0</td>\n",
       "      <td>287000.0</td>\n",
       "      <td>35000.0</td>\n",
       "      <td>229000.0</td>\n",
       "    </tr>\n",
       "    <tr>\n",
       "      <th>BalanceGross</th>\n",
       "      <td>$0.00</td>\n",
       "      <td>$0.00</td>\n",
       "      <td>$0.00</td>\n",
       "      <td>$0.00</td>\n",
       "      <td>$0.00</td>\n",
       "    </tr>\n",
       "    <tr>\n",
       "      <th>MIS_Status</th>\n",
       "      <td>PIF</td>\n",
       "      <td>PIF</td>\n",
       "      <td>PIF</td>\n",
       "      <td>PIF</td>\n",
       "      <td>PIF</td>\n",
       "    </tr>\n",
       "    <tr>\n",
       "      <th>ChgOffPrinGr</th>\n",
       "      <td>$0.00</td>\n",
       "      <td>$0.00</td>\n",
       "      <td>$0.00</td>\n",
       "      <td>$0.00</td>\n",
       "      <td>$0.00</td>\n",
       "    </tr>\n",
       "    <tr>\n",
       "      <th>GrAppv</th>\n",
       "      <td>60000.0</td>\n",
       "      <td>40000.0</td>\n",
       "      <td>287000.0</td>\n",
       "      <td>35000.0</td>\n",
       "      <td>229000.0</td>\n",
       "    </tr>\n",
       "    <tr>\n",
       "      <th>SBA_Appv</th>\n",
       "      <td>48000.0</td>\n",
       "      <td>32000.0</td>\n",
       "      <td>215250.0</td>\n",
       "      <td>28000.0</td>\n",
       "      <td>229000.0</td>\n",
       "    </tr>\n",
       "    <tr>\n",
       "      <th>NAICS2</th>\n",
       "      <td>45</td>\n",
       "      <td>72</td>\n",
       "      <td>62</td>\n",
       "      <td>0</td>\n",
       "      <td>0</td>\n",
       "    </tr>\n",
       "    <tr>\n",
       "      <th>RealEstate</th>\n",
       "      <td>0</td>\n",
       "      <td>0</td>\n",
       "      <td>0</td>\n",
       "      <td>0</td>\n",
       "      <td>1</td>\n",
       "    </tr>\n",
       "    <tr>\n",
       "      <th>Recession</th>\n",
       "      <td>0</td>\n",
       "      <td>0</td>\n",
       "      <td>0</td>\n",
       "      <td>0</td>\n",
       "      <td>0</td>\n",
       "    </tr>\n",
       "    <tr>\n",
       "      <th>Portion</th>\n",
       "      <td>0.8</td>\n",
       "      <td>0.8</td>\n",
       "      <td>0.75</td>\n",
       "      <td>0.8</td>\n",
       "      <td>1.0</td>\n",
       "    </tr>\n",
       "  </tbody>\n",
       "</table>\n",
       "</div>"
      ],
      "text/plain": [
       "                                     0                            1  \\\n",
       "LoanNr_ChkDgt               1000014003                   1000024006   \n",
       "Name                    ABC HOBBYCRAFT  LANDMARK BAR & GRILLE (THE)   \n",
       "City                        EVANSVILLE                    NEW PARIS   \n",
       "State                               IN                           IN   \n",
       "Zip                              47711                        46526   \n",
       "Bank                  FIFTH THIRD BANK              1ST SOURCE BANK   \n",
       "BankState                           OH                           IN   \n",
       "NAICS                           451120                       722410   \n",
       "ApprovalDate                 28-Feb-97                    28-Feb-97   \n",
       "ApprovalFY                        1997                         1997   \n",
       "Term                                84                           60   \n",
       "NoEmp                                4                            2   \n",
       "NewExist                           2.0                          2.0   \n",
       "CreateJob                            0                            0   \n",
       "RetainedJob                          0                            0   \n",
       "FranchiseCode                        1                            1   \n",
       "UrbanRural                           0                            0   \n",
       "RevLineCr                            N                            N   \n",
       "LowDoc                               Y                            Y   \n",
       "ChgOffDate                         NaN                          NaN   \n",
       "DisbursementDate   1999-02-28 00:00:00          1997-05-31 00:00:00   \n",
       "DisbursementGross              60000.0                      40000.0   \n",
       "BalanceGross                    $0.00                        $0.00    \n",
       "MIS_Status                         PIF                          PIF   \n",
       "ChgOffPrinGr                    $0.00                        $0.00    \n",
       "GrAppv                         60000.0                      40000.0   \n",
       "SBA_Appv                       48000.0                      32000.0   \n",
       "NAICS2                              45                           72   \n",
       "RealEstate                           0                            0   \n",
       "Recession                            0                            0   \n",
       "Portion                            0.8                          0.8   \n",
       "\n",
       "                                         2                              3  \\\n",
       "LoanNr_ChkDgt                   1000034009                     1000044001   \n",
       "Name                 WHITLOCK DDS, TODD M.  BIG BUCKS PAWN & JEWELRY, LLC   \n",
       "City                           BLOOMINGTON                   BROKEN ARROW   \n",
       "State                                   IN                             OK   \n",
       "Zip                                  47401                          74012   \n",
       "Bank               GRANT COUNTY STATE BANK  1ST NATL BK & TR CO OF BROKEN   \n",
       "BankState                               IN                             OK   \n",
       "NAICS                               621210                              0   \n",
       "ApprovalDate                     28-Feb-97                      28-Feb-97   \n",
       "ApprovalFY                            1997                           1997   \n",
       "Term                                   180                             60   \n",
       "NoEmp                                    7                              2   \n",
       "NewExist                               1.0                            1.0   \n",
       "CreateJob                                0                              0   \n",
       "RetainedJob                              0                              0   \n",
       "FranchiseCode                            1                              1   \n",
       "UrbanRural                               0                              0   \n",
       "RevLineCr                                N                              N   \n",
       "LowDoc                                   N                              Y   \n",
       "ChgOffDate                             NaN                            NaN   \n",
       "DisbursementDate       1997-12-31 00:00:00            1997-06-30 00:00:00   \n",
       "DisbursementGross                 287000.0                        35000.0   \n",
       "BalanceGross                        $0.00                          $0.00    \n",
       "MIS_Status                             PIF                            PIF   \n",
       "ChgOffPrinGr                        $0.00                          $0.00    \n",
       "GrAppv                            287000.0                        35000.0   \n",
       "SBA_Appv                          215250.0                        28000.0   \n",
       "NAICS2                                  62                              0   \n",
       "RealEstate                               0                              0   \n",
       "Recession                                0                              0   \n",
       "Portion                               0.75                            0.8   \n",
       "\n",
       "                                             4  \n",
       "LoanNr_ChkDgt                       1000054004  \n",
       "Name               ANASTASIA CONFECTIONS, INC.  \n",
       "City                                   ORLANDO  \n",
       "State                                       FL  \n",
       "Zip                                      32801  \n",
       "Bank                   FLORIDA BUS. DEVEL CORP  \n",
       "BankState                                   FL  \n",
       "NAICS                                        0  \n",
       "ApprovalDate                         28-Feb-97  \n",
       "ApprovalFY                                1997  \n",
       "Term                                       240  \n",
       "NoEmp                                       14  \n",
       "NewExist                                   1.0  \n",
       "CreateJob                                    7  \n",
       "RetainedJob                                  7  \n",
       "FranchiseCode                                1  \n",
       "UrbanRural                                   0  \n",
       "RevLineCr                                    N  \n",
       "LowDoc                                       N  \n",
       "ChgOffDate                                 NaN  \n",
       "DisbursementDate           1997-05-14 00:00:00  \n",
       "DisbursementGross                     229000.0  \n",
       "BalanceGross                            $0.00   \n",
       "MIS_Status                                 PIF  \n",
       "ChgOffPrinGr                            $0.00   \n",
       "GrAppv                                229000.0  \n",
       "SBA_Appv                              229000.0  \n",
       "NAICS2                                       0  \n",
       "RealEstate                                   1  \n",
       "Recession                                    0  \n",
       "Portion                                    1.0  "
      ]
     },
     "execution_count": 63,
     "metadata": {},
     "output_type": "execute_result"
    }
   ],
   "source": [
    "print(df.shape)\n",
    "df.head().T"
   ]
  }
 ],
 "metadata": {
  "kernelspec": {
   "display_name": "Python 3 (ipykernel)",
   "language": "python",
   "name": "python3"
  },
  "language_info": {
   "codemirror_mode": {
    "name": "ipython",
    "version": 3
   },
   "file_extension": ".py",
   "mimetype": "text/x-python",
   "name": "python",
   "nbconvert_exporter": "python",
   "pygments_lexer": "ipython3",
   "version": "3.13.5"
  }
 },
 "nbformat": 4,
 "nbformat_minor": 5
}
